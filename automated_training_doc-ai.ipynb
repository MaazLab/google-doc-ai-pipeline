{
 "cells": [
  {
   "cell_type": "code",
   "execution_count": 2,
   "id": "7c0be283",
   "metadata": {},
   "outputs": [],
   "source": [
    "import os\n",
    "import time\n",
    "from google.cloud import documentai_v1beta3 as documentai\n",
    "from google.cloud import storage\n",
    "from google.api_core.client_options import ClientOptions"
   ]
  },
  {
   "cell_type": "code",
   "execution_count": 4,
   "id": "8337477b",
   "metadata": {},
   "outputs": [],
   "source": [
    "# --------------- CONFIGURATION -------------------\n",
    "PROJECT_ID = \"prj-app-wh-dev\"\n",
    "LOCATION = \"us\"  # or \"eu\" depending on your processor location\n",
    "\n",
    "PROCESSOR_ID = '56e60b554136ec3d'\n",
    "# Provide paths\n",
    "LOCAL_DOCUMENTS_DIR = \"path_to_documents\"\n",
    "LOCAL_ANNOTATIONS_DIR = \"path_to_annotations\"  # JSON annotation files\n"
   ]
  },
  {
   "cell_type": "markdown",
   "id": "258284b4",
   "metadata": {},
   "source": [
    "**Create Processor**"
   ]
  },
  {
   "cell_type": "code",
   "execution_count": 15,
   "id": "82c86c71",
   "metadata": {},
   "outputs": [
    {
     "name": "stderr",
     "output_type": "stream",
     "text": [
      "/home/maaz-rafiq/anaconda3/lib/python3.12/site-packages/google/auth/_default.py:76: UserWarning: Your application has authenticated using end user credentials from Google Cloud SDK without a quota project. You might receive a \"quota exceeded\" or \"API not enabled\" error. See the following page for troubleshooting: https://cloud.google.com/docs/authentication/adc-troubleshooting/user-creds. \n",
      "  warnings.warn(_CLOUD_SDK_CREDENTIALS_WARNING)\n"
     ]
    },
    {
     "name": "stdout",
     "output_type": "stream",
     "text": [
      "Processor created: projects/905161924890/locations/us/processors/56e60b554136ec3d\n"
     ]
    }
   ],
   "source": [
    "def create_processor(client, display_name):\n",
    "    parent = f\"projects/{PROJECT_ID}/locations/{LOCATION}\"\n",
    "    processor = documentai.Processor(\n",
    "        type_=\"CUSTOM_EXTRACTION_PROCESSOR\",  # Very important\n",
    "        display_name=display_name,\n",
    "    )\n",
    "    response = client.create_processor(parent=parent, processor=processor)\n",
    "    print(f\"Processor created: {response.name}\")\n",
    "    return response.name\n",
    "\n",
    "\n",
    "client = documentai.DocumentProcessorServiceClient()\n",
    "processor_name = create_processor(client, display_name=\"automation_test_processor\")\n",
    "processor_id = processor_name.split(\"/\")[-1]\n",
    "\n"
   ]
  },
  {
   "cell_type": "code",
   "execution_count": 7,
   "id": "f93f6c48",
   "metadata": {},
   "outputs": [],
   "source": [
    "URIS = [\n",
    "    \"gs://prj-app-wh-dev-backend-data/docai/1736724814.pdf\",\n",
    "    \"gs://prj-app-wh-dev-backend-data/docai/Sabbagh, Dalal.pdf\",\n",
    "]"
   ]
  },
  {
   "cell_type": "code",
   "execution_count": 1,
   "id": "be2e5449",
   "metadata": {},
   "outputs": [],
   "source": [
    "dataset_path = 'prj-app-wh-dev-backend-data/docai_samples'"
   ]
  },
  {
   "cell_type": "code",
   "execution_count": null,
   "id": "509a5cc2",
   "metadata": {},
   "outputs": [],
   "source": [
    "URIS = [\n",
    "    \"gs://prj-app-wh-dev-backend-data/docai/1736724814.pdf\",\n",
    "    \"gs://prj-app-wh-dev-backend-data/docai/Sabbagh, Dalal.pdf\",\n",
    "]"
   ]
  },
  {
   "cell_type": "markdown",
   "id": "7d9b2a3a",
   "metadata": {},
   "source": [
    "**Initialize Dataset**"
   ]
  },
  {
   "cell_type": "code",
   "execution_count": 17,
   "id": "cf776720",
   "metadata": {},
   "outputs": [
    {
     "name": "stderr",
     "output_type": "stream",
     "text": [
      "/home/maaz-rafiq/anaconda3/lib/python3.12/site-packages/google/auth/_default.py:76: UserWarning: Your application has authenticated using end user credentials from Google Cloud SDK without a quota project. You might receive a \"quota exceeded\" or \"API not enabled\" error. See the following page for troubleshooting: https://cloud.google.com/docs/authentication/adc-troubleshooting/user-creds. \n",
      "  warnings.warn(_CLOUD_SDK_CREDENTIALS_WARNING)\n"
     ]
    }
   ],
   "source": [
    "# from google.cloud import documentai_v1beta3 as documentai\n",
    "# from google.api_core.client_options import ClientOptions\n",
    "\n",
    "# Your settings\n",
    "project_id = \"prj-app-wh-dev\"\n",
    "location = \"us\"  # based on your endpoint\n",
    "processor_id = \"56e60b554136ec3d\"\n",
    "gcs_uri_prefix = \"gs://prj-app-wh-dev-backend-data/docai_dataset/\"\n",
    "\n",
    "# Setup the endpoint correctly\n",
    "client_options = ClientOptions(api_endpoint=f\"{location}-documentai.googleapis.com\")\n",
    "\n",
    "# Initialize the Document AI client\n",
    "client = documentai.DocumentServiceAsyncClient(client_options=client_options)\n",
    "\n",
    "# Build the full dataset resource name\n",
    "dataset_name = f\"projects/{project_id}/locations/{location}/processors/{processor_id}/dataset\"\n",
    "\n",
    "# Prepare the dataset configuration\n",
    "dataset = documentai.Dataset(\n",
    "    name=dataset_name,\n",
    "    gcs_managed_config=documentai.Dataset.GCSManagedConfig(\n",
    "        gcs_prefix=documentai.GcsPrefix(\n",
    "            gcs_uri_prefix=gcs_uri_prefix\n",
    "        )\n",
    "    ),\n",
    "    spanner_indexing_config=documentai.Dataset.SpannerIndexingConfig()\n",
    ")\n",
    "\n",
    "# Prepare the update request\n",
    "update_request = documentai.UpdateDatasetRequest(\n",
    "    dataset=dataset\n",
    ")\n",
    "\n",
    "# Call the update_dataset API\n",
    "operation = client.update_dataset(request=update_request)\n",
    "\n",
    "response = (await operation).result()\n",
    "\n"
   ]
  },
  {
   "cell_type": "markdown",
   "id": "eb8a0b03",
   "metadata": {},
   "source": [
    "**Create Schema**"
   ]
  },
  {
   "cell_type": "code",
   "execution_count": 11,
   "id": "59bcd804",
   "metadata": {},
   "outputs": [
    {
     "name": "stderr",
     "output_type": "stream",
     "text": [
      "/home/maaz-rafiq/anaconda3/lib/python3.12/site-packages/google/auth/_default.py:76: UserWarning: Your application has authenticated using end user credentials from Google Cloud SDK without a quota project. You might receive a \"quota exceeded\" or \"API not enabled\" error. See the following page for troubleshooting: https://cloud.google.com/docs/authentication/adc-troubleshooting/user-creds. \n",
      "  warnings.warn(_CLOUD_SDK_CREDENTIALS_WARNING)\n"
     ]
    },
    {
     "name": "stdout",
     "output_type": "stream",
     "text": [
      "✅ Dataset schema updated with all data types: name: \"projects/prj-app-wh-dev/locations/us/processors/56e60b554136ec3d/dataset/datasetSchema\"\n",
      "document_schema {\n",
      "  display_name: \"Invoice Schema (All Data Types)\"\n",
      "  description: \"Schema demonstrating all supported data types\"\n",
      "  entity_types {\n",
      "    name: \"custom_extraction_document_type\"\n",
      "    base_types: \"document\"\n",
      "    properties {\n",
      "      name: \"invoice_number\"\n",
      "      value_type: \"string\"\n",
      "      occurrence_type: OPTIONAL_ONCE\n",
      "      property_metadata {\n",
      "      }\n",
      "      display_name: \"Invoice Number\"\n",
      "    }\n",
      "    properties {\n",
      "      name: \"item_count\"\n",
      "      value_type: \"number\"\n",
      "      occurrence_type: OPTIONAL_ONCE\n",
      "      property_metadata {\n",
      "      }\n",
      "      display_name: \"Item Count\"\n",
      "    }\n",
      "    properties {\n",
      "      name: \"total_amount\"\n",
      "      value_type: \"currency\"\n",
      "      occurrence_type: OPTIONAL_ONCE\n",
      "      property_metadata {\n",
      "      }\n",
      "      display_name: \"Total Amount\"\n",
      "    }\n",
      "    properties {\n",
      "      name: \"line_item_amount\"\n",
      "      value_type: \"money\"\n",
      "      occurrence_type: OPTIONAL_MULTIPLE\n",
      "      property_metadata {\n",
      "      }\n",
      "      display_name: \"Line Item Amount\"\n",
      "    }\n",
      "    properties {\n",
      "      name: \"invoice_date\"\n",
      "      value_type: \"datetime\"\n",
      "      occurrence_type: REQUIRED_ONCE\n",
      "      property_metadata {\n",
      "      }\n",
      "      display_name: \"Invoice Date\"\n",
      "    }\n",
      "    properties {\n",
      "      name: \"billing_address\"\n",
      "      value_type: \"address\"\n",
      "      occurrence_type: OPTIONAL_ONCE\n",
      "      property_metadata {\n",
      "      }\n",
      "      display_name: \"Billing Address\"\n",
      "    }\n",
      "    properties {\n",
      "      name: \"is_paid\"\n",
      "      value_type: \"boolean\"\n",
      "      occurrence_type: OPTIONAL_ONCE\n",
      "      property_metadata {\n",
      "      }\n",
      "      display_name: \"Is Paid\"\n",
      "    }\n",
      "    entity_type_metadata {\n",
      "    }\n",
      "    display_name: \"Invoice\"\n",
      "    description: \"Root type for invoice fields\"\n",
      "  }\n",
      "}\n",
      "\n"
     ]
    }
   ],
   "source": [
    "from google.cloud import documentai_v1beta3 as documentai\n",
    "from google.protobuf import field_mask_pb2\n",
    "\n",
    "# ✅ Use the DocumentServiceClient\n",
    "client = documentai.DocumentServiceClient()\n",
    "\n",
    "# Dataset name\n",
    "dataset_name = f\"projects/{PROJECT_ID}/locations/{LOCATION}/processors/{PROCESSOR_ID}/dataset\"\n",
    "dataset_schema_name = f\"{dataset_name}/datasetSchema\"\n",
    "\n",
    "# Define the schema fields with all data types\n",
    "properties_list = [\n",
    "    documentai.DocumentSchema.EntityType.Property(\n",
    "        name=\"invoice_number\",\n",
    "        display_name=\"Invoice Number\",\n",
    "        value_type=\"string\",  # Plain text\n",
    "        occurrence_type=documentai.DocumentSchema.EntityType.Property.OccurrenceType.OPTIONAL_ONCE,\n",
    "    ),\n",
    "    documentai.DocumentSchema.EntityType.Property(\n",
    "        name=\"item_count\",\n",
    "        display_name=\"Item Count\",\n",
    "        value_type=\"number\",  # Number\n",
    "        occurrence_type=documentai.DocumentSchema.EntityType.Property.OccurrenceType.OPTIONAL_ONCE,\n",
    "    ),\n",
    "    documentai.DocumentSchema.EntityType.Property(\n",
    "        name=\"total_amount\",\n",
    "        display_name=\"Total Amount\",\n",
    "        value_type=\"currency\",  # Currency\n",
    "        occurrence_type=documentai.DocumentSchema.EntityType.Property.OccurrenceType.OPTIONAL_ONCE,\n",
    "    ),\n",
    "    documentai.DocumentSchema.EntityType.Property(\n",
    "        name=\"line_item_amount\",\n",
    "        display_name=\"Line Item Amount\",\n",
    "        value_type=\"money\",  # Money\n",
    "        occurrence_type=documentai.DocumentSchema.EntityType.Property.OccurrenceType.OPTIONAL_MULTIPLE,\n",
    "    ),\n",
    "    documentai.DocumentSchema.EntityType.Property(\n",
    "        name=\"invoice_date\",\n",
    "        display_name=\"Invoice Date\",\n",
    "        value_type=\"datetime\",  # Datetime\n",
    "        occurrence_type=documentai.DocumentSchema.EntityType.Property.OccurrenceType.REQUIRED_ONCE,\n",
    "    ),\n",
    "    documentai.DocumentSchema.EntityType.Property(\n",
    "        name=\"billing_address\",\n",
    "        display_name=\"Billing Address\",\n",
    "        value_type=\"address\",  # Address\n",
    "        occurrence_type=documentai.DocumentSchema.EntityType.Property.OccurrenceType.OPTIONAL_ONCE,\n",
    "    ),\n",
    "    documentai.DocumentSchema.EntityType.Property(\n",
    "        name=\"is_paid\",\n",
    "        display_name=\"Is Paid\",\n",
    "        value_type=\"boolean\",  # Checkbox\n",
    "        occurrence_type=documentai.DocumentSchema.EntityType.Property.OccurrenceType.OPTIONAL_ONCE,\n",
    "    ),\n",
    "]\n",
    "\n",
    "# Create the DocumentSchema - ✅ name must be 'custom_extraction_document_type'\n",
    "document_schema = documentai.DocumentSchema(\n",
    "    display_name=\"Invoice Schema (All Data Types)\",\n",
    "    description=\"Schema demonstrating all supported data types\",\n",
    "    entity_types=[\n",
    "        documentai.DocumentSchema.EntityType(\n",
    "            display_name=\"Invoice\",\n",
    "            name=\"custom_extraction_document_type\",\n",
    "            description=\"Root type for invoice fields\",\n",
    "            base_types=[\"document\"],\n",
    "            properties=properties_list\n",
    "        )\n",
    "    ]\n",
    ")\n",
    "\n",
    "# Build the dataset schema\n",
    "dataset_schema = documentai.DatasetSchema(\n",
    "    name=dataset_schema_name,\n",
    "    document_schema=document_schema\n",
    ")\n",
    "\n",
    "# Prepare the request\n",
    "update_schema_request = documentai.UpdateDatasetSchemaRequest(\n",
    "    dataset_schema=dataset_schema,\n",
    "    update_mask=field_mask_pb2.FieldMask(paths=[\"document_schema\"])\n",
    ")\n",
    "\n",
    "# ✅ Update the dataset schema using DocumentServiceClient\n",
    "response = client.update_dataset_schema(request=update_schema_request)\n",
    "print(\"✅ Dataset schema updated with all data types:\", response)\n"
   ]
  },
  {
   "cell_type": "code",
   "execution_count": null,
   "id": "05835f3f",
   "metadata": {},
   "outputs": [],
   "source": []
  }
 ],
 "metadata": {
  "kernelspec": {
   "display_name": "base",
   "language": "python",
   "name": "python3"
  },
  "language_info": {
   "codemirror_mode": {
    "name": "ipython",
    "version": 3
   },
   "file_extension": ".py",
   "mimetype": "text/x-python",
   "name": "python",
   "nbconvert_exporter": "python",
   "pygments_lexer": "ipython3",
   "version": "3.12.2"
  }
 },
 "nbformat": 4,
 "nbformat_minor": 5
}
