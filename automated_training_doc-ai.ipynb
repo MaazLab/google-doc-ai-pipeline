{
 "cells": [
  {
   "cell_type": "code",
   "execution_count": 1,
   "id": "7c0be283",
   "metadata": {},
   "outputs": [],
   "source": [
    "import os\n",
    "import time\n",
    "from google.cloud import documentai_v1beta3 as documentai\n",
    "from google.cloud import storage\n",
    "from google.api_core.client_options import ClientOptions"
   ]
  },
  {
   "cell_type": "code",
   "execution_count": 2,
   "id": "8337477b",
   "metadata": {},
   "outputs": [],
   "source": [
    "# --------------- CONFIGURATION -------------------\n",
    "PROJECT_ID = \"prj-app-wh-dev\"\n",
    "LOCATION = \"us\"  # or \"eu\" depending on your processor location\n",
    "\n",
    "PROCESSOR_ID = 'de482f2a75ceb96'\n",
    "# Provide paths\n",
    "LOCAL_DOCUMENTS_DIR = \"path_to_documents\"\n",
    "LOCAL_ANNOTATIONS_DIR = \"path_to_annotations\"  # JSON annotation files\n",
    "\n",
    "# Schema\n",
    "SCHEMA_FIELDS = [\n",
    "    {\"name\": \"Patient Name\", \"type\": \"text\"},\n",
    "    {\"name\": \"DOB\", \"type\": \"date\"},\n",
    "    {\"name\": \"Medical Record Number\", \"type\": \"number\"},\n",
    "    # Add more fields according to your form\n",
    "]"
   ]
  },
  {
   "cell_type": "code",
   "execution_count": 13,
   "id": "82c86c71",
   "metadata": {},
   "outputs": [
    {
     "name": "stderr",
     "output_type": "stream",
     "text": [
      "/home/maaz-rafiq/anaconda3/lib/python3.12/site-packages/google/auth/_default.py:76: UserWarning: Your application has authenticated using end user credentials from Google Cloud SDK without a quota project. You might receive a \"quota exceeded\" or \"API not enabled\" error. See the following page for troubleshooting: https://cloud.google.com/docs/authentication/adc-troubleshooting/user-creds. \n",
      "  warnings.warn(_CLOUD_SDK_CREDENTIALS_WARNING)\n"
     ]
    },
    {
     "name": "stdout",
     "output_type": "stream",
     "text": [
      "Processor created: projects/905161924890/locations/us/processors/de482f2a75ceb96\n"
     ]
    }
   ],
   "source": [
    "def create_processor(client, display_name):\n",
    "    parent = f\"projects/{PROJECT_ID}/locations/{LOCATION}\"\n",
    "    processor = documentai.Processor(\n",
    "        type_=\"CUSTOM_EXTRACTION_PROCESSOR\",  # Very important\n",
    "        display_name=display_name,\n",
    "    )\n",
    "    response = client.create_processor(parent=parent, processor=processor)\n",
    "    print(f\"Processor created: {response.name}\")\n",
    "    return response.name\n",
    "\n",
    "\n",
    "client = documentai.DocumentProcessorServiceClient()\n",
    "processor_name = create_processor(client, display_name=\"automation_test_processor\")\n",
    "processor_id = processor_name.split(\"/\")[-1]\n",
    "\n"
   ]
  },
  {
   "cell_type": "code",
   "execution_count": 7,
   "id": "f93f6c48",
   "metadata": {},
   "outputs": [],
   "source": [
    "URIS = [\n",
    "    \"gs://prj-app-wh-dev-backend-data/docai/1736724814.pdf\",\n",
    "    \"gs://prj-app-wh-dev-backend-data/docai/Sabbagh, Dalal.pdf\",\n",
    "]"
   ]
  },
  {
   "cell_type": "code",
   "execution_count": 1,
   "id": "be2e5449",
   "metadata": {},
   "outputs": [],
   "source": [
    "dataset_path = 'prj-app-wh-dev-backend-data/docai_samples'"
   ]
  },
  {
   "cell_type": "code",
   "execution_count": null,
   "id": "509a5cc2",
   "metadata": {},
   "outputs": [],
   "source": [
    "URIS = [\n",
    "    \"gs://prj-app-wh-dev-backend-data/docai/1736724814.pdf\",\n",
    "    \"gs://prj-app-wh-dev-backend-data/docai/Sabbagh, Dalal.pdf\",\n",
    "]"
   ]
  },
  {
   "cell_type": "code",
   "execution_count": 5,
   "id": "cf776720",
   "metadata": {},
   "outputs": [
    {
     "name": "stderr",
     "output_type": "stream",
     "text": [
      "/home/maaz-rafiq/anaconda3/lib/python3.12/site-packages/google/auth/_default.py:76: UserWarning: Your application has authenticated using end user credentials from Google Cloud SDK without a quota project. You might receive a \"quota exceeded\" or \"API not enabled\" error. See the following page for troubleshooting: https://cloud.google.com/docs/authentication/adc-troubleshooting/user-creds. \n",
      "  warnings.warn(_CLOUD_SDK_CREDENTIALS_WARNING)\n"
     ]
    }
   ],
   "source": [
    "# from google.cloud import documentai_v1beta3 as documentai\n",
    "# from google.api_core.client_options import ClientOptions\n",
    "\n",
    "# Your settings\n",
    "project_id = \"prj-app-wh-dev\"\n",
    "location = \"us\"  # based on your endpoint\n",
    "processor_id = \"de482f2a75ceb96\"\n",
    "gcs_uri_prefix = \"gs://prj-app-wh-dev-backend-data/docai_dataset/\"\n",
    "\n",
    "# Setup the endpoint correctly\n",
    "client_options = ClientOptions(api_endpoint=f\"{location}-documentai.googleapis.com\")\n",
    "\n",
    "# Initialize the Document AI client\n",
    "client = documentai.DocumentServiceAsyncClient(client_options=client_options)\n",
    "\n",
    "# Build the full dataset resource name\n",
    "dataset_name = f\"projects/{project_id}/locations/{location}/processors/{processor_id}/dataset\"\n",
    "\n",
    "# Prepare the dataset configuration\n",
    "dataset = documentai.Dataset(\n",
    "    name=dataset_name,\n",
    "    gcs_managed_config=documentai.Dataset.GCSManagedConfig(\n",
    "        gcs_prefix=documentai.GcsPrefix(\n",
    "            gcs_uri_prefix=gcs_uri_prefix\n",
    "        )\n",
    "    ),\n",
    "    spanner_indexing_config=documentai.Dataset.SpannerIndexingConfig()\n",
    ")\n",
    "\n",
    "# Prepare the update request\n",
    "update_request = documentai.UpdateDatasetRequest(\n",
    "    dataset=dataset\n",
    ")\n",
    "\n",
    "# Call the update_dataset API\n",
    "operation = client.update_dataset(request=update_request)\n",
    "\n",
    "response = (await operation).result()\n",
    "\n"
   ]
  },
  {
   "cell_type": "code",
   "execution_count": null,
   "id": "bc4fb8b1",
   "metadata": {},
   "outputs": [],
   "source": [
    "from google.cloud import documentai_v1 as documentai\n",
    "from google.api_core.client_options import ClientOptions\n",
    "\n",
    "# Your settings\n",
    "PROJECT_ID = \"PROJECT_ID\"\n",
    "LOCATION = \"LOCATION\"  # based on your endpoint\n",
    "PROCESSOR_ID = \"PROCESSOR_ID\"\n",
    "gcs_uri_prefix = \"GCS_URI\"\n",
    "\n",
    "# Setup the endpoint correctly\n",
    "client_options = ClientOptions(api_endpoint=f\"{LOCATION}-documentai.googleapis.com\")\n",
    "\n",
    "# Initialize the Document AI client\n",
    "client = documentai.DocumentServiceAsyncClient(client_options=client_options)\n",
    "\n",
    "# Build the full dataset resource name\n",
    "dataset_name = f\"projects/{PROJECT_ID}/locations/{LOCATION}/processors/{PROCESSOR_ID}/dataset\"\n",
    "\n",
    "# Prepare the dataset configuration\n",
    "dataset = documentai.Dataset(\n",
    "    name=dataset_name,\n",
    "    gcs_managed_config=documentai.Dataset.GCSManagedConfig(\n",
    "        gcs_prefix=documentai.GcsPrefix(\n",
    "            gcs_uri_prefix=gcs_uri_prefix\n",
    "        )\n",
    "    ),\n",
    "    spanner_indexing_config=documentai.Dataset.SpannerIndexingConfig()\n",
    ")\n",
    "\n",
    "# Prepare the update request\n",
    "update_request = documentai.UpdateDatasetRequest(\n",
    "    dataset=dataset\n",
    ")\n",
    "\n",
    "# Call the update_dataset API\n",
    "operation = client.update_dataset(request=update_request)\n",
    "\n",
    "response = (await operation).result()\n",
    "\n"
   ]
  },
  {
   "cell_type": "code",
   "execution_count": 8,
   "id": "f3908790",
   "metadata": {},
   "outputs": [
    {
     "data": {
      "text/plain": [
       "coroutine"
      ]
     },
     "execution_count": 8,
     "metadata": {},
     "output_type": "execute_result"
    }
   ],
   "source": [
    "type(response)"
   ]
  },
  {
   "cell_type": "code",
   "execution_count": null,
   "id": "df909084",
   "metadata": {},
   "outputs": [],
   "source": []
  },
  {
   "cell_type": "code",
   "execution_count": 8,
   "id": "09b28eb3",
   "metadata": {},
   "outputs": [
    {
     "name": "stderr",
     "output_type": "stream",
     "text": [
      "/home/maaz-rafiq/anaconda3/lib/python3.12/site-packages/google/auth/_default.py:76: UserWarning: Your application has authenticated using end user credentials from Google Cloud SDK without a quota project. You might receive a \"quota exceeded\" or \"API not enabled\" error. See the following page for troubleshooting: https://cloud.google.com/docs/authentication/adc-troubleshooting/user-creds. \n",
      "  warnings.warn(_CLOUD_SDK_CREDENTIALS_WARNING)\n"
     ]
    },
    {
     "ename": "ValueError",
     "evalue": "Unknown field for EntityType: entity_type",
     "output_type": "error",
     "traceback": [
      "\u001b[0;31m---------------------------------------------------------------------------\u001b[0m",
      "\u001b[0;31mValueError\u001b[0m                                Traceback (most recent call last)",
      "Cell \u001b[0;32mIn[8], line 34\u001b[0m\n\u001b[1;32m     31\u001b[0m     \u001b[38;5;28mprint\u001b[39m(\u001b[38;5;124mf\u001b[39m\u001b[38;5;124m\"\u001b[39m\u001b[38;5;124mSchema created successfully!\u001b[39m\u001b[38;5;124m\"\u001b[39m)\n\u001b[1;32m     32\u001b[0m     \u001b[38;5;28;01mreturn\u001b[39;00m updated_schema\n\u001b[0;32m---> 34\u001b[0m res \u001b[38;5;241m=\u001b[39m create_schema(PROJECT_ID, LOCATION, PROCESSOR_ID, SCHEMA_FIELDS)\n",
      "Cell \u001b[0;32mIn[8], line 13\u001b[0m, in \u001b[0;36mcreate_schema\u001b[0;34m(project_id, location, processor_id, schema_def)\u001b[0m\n\u001b[1;32m      6\u001b[0m parent \u001b[38;5;241m=\u001b[39m \u001b[38;5;124mf\u001b[39m\u001b[38;5;124m\"\u001b[39m\u001b[38;5;124mprojects/\u001b[39m\u001b[38;5;132;01m{\u001b[39;00mproject_id\u001b[38;5;132;01m}\u001b[39;00m\u001b[38;5;124m/locations/\u001b[39m\u001b[38;5;132;01m{\u001b[39;00mlocation\u001b[38;5;132;01m}\u001b[39;00m\u001b[38;5;124m/processors/\u001b[39m\u001b[38;5;132;01m{\u001b[39;00mprocessor_id\u001b[38;5;132;01m}\u001b[39;00m\u001b[38;5;124m/dataset/schema\u001b[39m\u001b[38;5;124m\"\u001b[39m\n\u001b[1;32m      8\u001b[0m \u001b[38;5;66;03m# Define the schema (mapping user inputs)\u001b[39;00m\n\u001b[1;32m      9\u001b[0m schema \u001b[38;5;241m=\u001b[39m documentai\u001b[38;5;241m.\u001b[39mDatasetSchema(\n\u001b[1;32m     10\u001b[0m     document_schema\u001b[38;5;241m=\u001b[39mdocumentai\u001b[38;5;241m.\u001b[39mDocumentSchema(\n\u001b[1;32m     11\u001b[0m         display_name\u001b[38;5;241m=\u001b[39m\u001b[38;5;124m\"\u001b[39m\u001b[38;5;124mCustom Schema\u001b[39m\u001b[38;5;124m\"\u001b[39m,\n\u001b[1;32m     12\u001b[0m         entity_types\u001b[38;5;241m=\u001b[39m[\n\u001b[0;32m---> 13\u001b[0m             documentai\u001b[38;5;241m.\u001b[39mDocumentSchema\u001b[38;5;241m.\u001b[39mEntityType(\n\u001b[1;32m     14\u001b[0m                 display_name\u001b[38;5;241m=\u001b[39mfield[\u001b[38;5;124m\"\u001b[39m\u001b[38;5;124mname\u001b[39m\u001b[38;5;124m\"\u001b[39m],\n\u001b[1;32m     15\u001b[0m                 entity_type\u001b[38;5;241m=\u001b[39mfield[\u001b[38;5;124m\"\u001b[39m\u001b[38;5;124mtype\u001b[39m\u001b[38;5;124m\"\u001b[39m],\n\u001b[1;32m     16\u001b[0m                 properties\u001b[38;5;241m=\u001b[39m[],  \u001b[38;5;66;03m# Optional: sub-fields\u001b[39;00m\n\u001b[1;32m     17\u001b[0m                 base_types\u001b[38;5;241m=\u001b[39m[],  \u001b[38;5;66;03m# Optional\u001b[39;00m\n\u001b[1;32m     18\u001b[0m                 \u001b[38;5;66;03m# Auto-extend this if your schema has nested fields\u001b[39;00m\n\u001b[1;32m     19\u001b[0m             )\n\u001b[1;32m     20\u001b[0m             \u001b[38;5;28;01mfor\u001b[39;00m field \u001b[38;5;129;01min\u001b[39;00m schema_def\n\u001b[1;32m     21\u001b[0m         ]\n\u001b[1;32m     22\u001b[0m     )\n\u001b[1;32m     23\u001b[0m )\n\u001b[1;32m     25\u001b[0m request \u001b[38;5;241m=\u001b[39m documentai\u001b[38;5;241m.\u001b[39mUpdateDatasetSchemaRequest(\n\u001b[1;32m     26\u001b[0m     dataset_schema\u001b[38;5;241m=\u001b[39mschema,\n\u001b[1;32m     27\u001b[0m     name\u001b[38;5;241m=\u001b[39mparent,\n\u001b[1;32m     28\u001b[0m )\n\u001b[1;32m     30\u001b[0m updated_schema \u001b[38;5;241m=\u001b[39m client\u001b[38;5;241m.\u001b[39mupdate_dataset_schema(request\u001b[38;5;241m=\u001b[39mrequest)\n",
      "File \u001b[0;32m~/anaconda3/lib/python3.12/site-packages/proto/message.py:576\u001b[0m, in \u001b[0;36mMessage.__init__\u001b[0;34m(self, mapping, ignore_unknown_fields, **kwargs)\u001b[0m\n\u001b[1;32m    573\u001b[0m     \u001b[38;5;28;01mif\u001b[39;00m ignore_unknown_fields:\n\u001b[1;32m    574\u001b[0m         \u001b[38;5;28;01mcontinue\u001b[39;00m\n\u001b[0;32m--> 576\u001b[0m     \u001b[38;5;28;01mraise\u001b[39;00m \u001b[38;5;167;01mValueError\u001b[39;00m(\n\u001b[1;32m    577\u001b[0m         \u001b[38;5;124m\"\u001b[39m\u001b[38;5;124mUnknown field for \u001b[39m\u001b[38;5;132;01m{}\u001b[39;00m\u001b[38;5;124m: \u001b[39m\u001b[38;5;132;01m{}\u001b[39;00m\u001b[38;5;124m\"\u001b[39m\u001b[38;5;241m.\u001b[39mformat(\u001b[38;5;28mself\u001b[39m\u001b[38;5;241m.\u001b[39m\u001b[38;5;18m__class__\u001b[39m\u001b[38;5;241m.\u001b[39m\u001b[38;5;18m__name__\u001b[39m, key)\n\u001b[1;32m    578\u001b[0m     )\n\u001b[1;32m    580\u001b[0m \u001b[38;5;28;01mtry\u001b[39;00m:\n\u001b[1;32m    581\u001b[0m     pb_value \u001b[38;5;241m=\u001b[39m marshal\u001b[38;5;241m.\u001b[39mto_proto(pb_type, value)\n",
      "\u001b[0;31mValueError\u001b[0m: Unknown field for EntityType: entity_type"
     ]
    }
   ],
   "source": [
    "def create_schema(project_id, location, processor_id, schema_def):\n",
    "    client_options = ClientOptions(api_endpoint=f\"{location}-documentai.googleapis.com\")\n",
    "    client = documentai.DocumentServiceClient(client_options=client_options)\n",
    "\n",
    "    # Parent\n",
    "    parent = f\"projects/{project_id}/locations/{location}/processors/{processor_id}/dataset/schema\"\n",
    "\n",
    "    # Define the schema (mapping user inputs)\n",
    "    schema = documentai.DatasetSchema(\n",
    "        document_schema=documentai.DocumentSchema(\n",
    "            display_name=\"Custom Schema\",\n",
    "            entity_types=[\n",
    "                documentai.DocumentSchema.EntityType(\n",
    "                    display_name=field[\"name\"],\n",
    "                    entity_type=field[\"type\"],\n",
    "                    properties=[],  # Optional: sub-fields\n",
    "                    base_types=[],  # Optional\n",
    "                    # Auto-extend this if your schema has nested fields\n",
    "                )\n",
    "                for field in schema_def\n",
    "            ]\n",
    "        )\n",
    "    )\n",
    "\n",
    "    request = documentai.UpdateDatasetSchemaRequest(\n",
    "        dataset_schema=schema,\n",
    "        name=parent,\n",
    "    )\n",
    "\n",
    "    updated_schema = client.update_dataset_schema(request=request)\n",
    "    print(f\"Schema created successfully!\")\n",
    "    return updated_schema\n",
    "\n",
    "res = create_schema(PROJECT_ID, LOCATION, PROCESSOR_ID, SCHEMA_FIELDS)"
   ]
  },
  {
   "cell_type": "code",
   "execution_count": 3,
   "id": "d67ba11b",
   "metadata": {},
   "outputs": [
    {
     "name": "stderr",
     "output_type": "stream",
     "text": [
      "/home/maaz-rafiq/anaconda3/lib/python3.12/site-packages/google/auth/_default.py:76: UserWarning: Your application has authenticated using end user credentials from Google Cloud SDK without a quota project. You might receive a \"quota exceeded\" or \"API not enabled\" error. See the following page for troubleshooting: https://cloud.google.com/docs/authentication/adc-troubleshooting/user-creds. \n",
      "  warnings.warn(_CLOUD_SDK_CREDENTIALS_WARNING)\n"
     ]
    }
   ],
   "source": [
    "from google.cloud.documentai_v1 import DocumentProcessorServiceClient\n",
    "from google.cloud.documentai_v1.types import DocumentSchema, Processor\n",
    "from google.protobuf.field_mask_pb2 import FieldMask\n",
    "\n",
    "def set_schema(client, project_id, location, processor_id, schema_fields):\n",
    "    parent = client.processor_path(project_id, location, processor_id)\n",
    "\n",
    "    # 1) Build your list of Property messages\n",
    "    properties = []\n",
    "    for field in schema_fields:\n",
    "        prop = DocumentSchema.EntityType.Property(\n",
    "            name=field[\"name\"].lower().replace(\" \", \"_\"),\n",
    "            display_name=field[\"name\"],\n",
    "            value_type=field[\"type\"],  # just a string\n",
    "            occurrence_type=(\n",
    "                DocumentSchema.EntityType.Property.OccurrenceType.OPTIONAL_ONCE\n",
    "            )\n",
    "        )\n",
    "        properties.append(prop)\n",
    "\n",
    "    # 2) Create a single top-level EntityType with those properties\n",
    "    entity_type = DocumentSchema.EntityType(\n",
    "        name=\"custom_extraction_document_type\",\n",
    "        display_name=\"Custom Extraction Document Type\",\n",
    "        base_types=[\"document\"],\n",
    "        properties=properties\n",
    "    )\n",
    "\n",
    "    # 3) Wrap it into a DocumentSchema\n",
    "    return DocumentSchema(entity_types=[entity_type])\n",
    "\n",
    "    # # 4) Send it to the API\n",
    "    # mask = FieldMask(paths=[\"document_schema\"])\n",
    "    # client.update_processor(\n",
    "    #     processor=Processor(name=parent, document_schema=schema),\n",
    "    #     update_mask=mask,\n",
    "    # )\n",
    "\n",
    "    # print(\"Schema updated successfully.\")\n",
    "\n",
    "\n",
    "client = DocumentProcessorServiceClient()\n",
    "schema = set_schema(client, PROJECT_ID, LOCATION, PROCESSOR_ID, SCHEMA_FIELDS)"
   ]
  },
  {
   "cell_type": "code",
   "execution_count": null,
   "id": "a7c62478",
   "metadata": {},
   "outputs": [],
   "source": []
  },
  {
   "cell_type": "code",
   "execution_count": null,
   "id": "f7bc8e7c",
   "metadata": {},
   "outputs": [],
   "source": [
    "def create_schema(project_id, location, processor_id, schema_def):\n",
    "    client_options = ClientOptions(api_endpoint=f\"{location}-documentai.googleapis.com\")\n",
    "    client = documentai.DocumentServiceClient(client_options=client_options)\n",
    "\n",
    "    # Parent\n",
    "    parent = f\"projects/{project_id}/locations/{location}/processors/{processor_id}/dataset/schema\"\n",
    "\n",
    "    # Define the schema (mapping user inputs)\n",
    "    schema = documentai.DatasetSchema(\n",
    "        document_schema=documentai.DocumentSchema(\n",
    "            display_name=\"Custom Schema\",\n",
    "            entity_types=[\n",
    "                documentai.DocumentSchema.EntityType(\n",
    "                    display_name=field[\"display_name\"],\n",
    "                    entity_type=field[\"entity_type\"],\n",
    "                    properties=[],  # Optional: sub-fields\n",
    "                    base_types=[],  # Optional\n",
    "                    # Auto-extend this if your schema has nested fields\n",
    "                )\n",
    "                for field in schema_def\n",
    "            ]\n",
    "        )\n",
    "    )\n",
    "\n",
    "    request = documentai.UpdateDatasetSchemaRequest(\n",
    "        dataset_schema=schema,\n",
    "        name=parent,\n",
    "    )\n",
    "\n",
    "    updated_schema = client.update_dataset_schema(request=request)\n",
    "    print(f\"Schema created successfully!\")\n",
    "    return updated_schema\n"
   ]
  },
  {
   "cell_type": "code",
   "execution_count": null,
   "id": "50099a89",
   "metadata": {},
   "outputs": [
    {
     "name": "stderr",
     "output_type": "stream",
     "text": [
      "/home/maaz-rafiq/anaconda3/lib/python3.12/site-packages/google/auth/_default.py:76: UserWarning: Your application has authenticated using end user credentials from Google Cloud SDK without a quota project. You might receive a \"quota exceeded\" or \"API not enabled\" error. See the following page for troubleshooting: https://cloud.google.com/docs/authentication/adc-troubleshooting/user-creds. \n",
      "  warnings.warn(_CLOUD_SDK_CREDENTIALS_WARNING)\n"
     ]
    },
    {
     "ename": "ValueError",
     "evalue": "Unknown field for EntityType: type_",
     "output_type": "error",
     "traceback": [
      "\u001b[0;31m---------------------------------------------------------------------------\u001b[0m",
      "\u001b[0;31mValueError\u001b[0m                                Traceback (most recent call last)",
      "Cell \u001b[0;32mIn[20], line 13\u001b[0m\n\u001b[1;32m      7\u001b[0m parent \u001b[38;5;241m=\u001b[39m \u001b[38;5;124mf\u001b[39m\u001b[38;5;124m\"\u001b[39m\u001b[38;5;124mprojects/\u001b[39m\u001b[38;5;132;01m{\u001b[39;00mproject_id\u001b[38;5;132;01m}\u001b[39;00m\u001b[38;5;124m/locations/\u001b[39m\u001b[38;5;132;01m{\u001b[39;00mlocation\u001b[38;5;132;01m}\u001b[39;00m\u001b[38;5;124m\"\u001b[39m\n\u001b[1;32m      9\u001b[0m \u001b[38;5;66;03m# Build document schema\u001b[39;00m\n\u001b[1;32m     10\u001b[0m schema \u001b[38;5;241m=\u001b[39m documentai\u001b[38;5;241m.\u001b[39mDocumentSchema(\n\u001b[1;32m     11\u001b[0m     display_name\u001b[38;5;241m=\u001b[39m\u001b[38;5;124m\"\u001b[39m\u001b[38;5;124myour_schema_name\u001b[39m\u001b[38;5;124m\"\u001b[39m,\n\u001b[1;32m     12\u001b[0m     entity_types\u001b[38;5;241m=\u001b[39m[\n\u001b[0;32m---> 13\u001b[0m         documentai\u001b[38;5;241m.\u001b[39mDocumentSchema\u001b[38;5;241m.\u001b[39mEntityType(\n\u001b[1;32m     14\u001b[0m             type_\u001b[38;5;241m=\u001b[39m\u001b[38;5;124m\"\u001b[39m\u001b[38;5;124mFieldName1\u001b[39m\u001b[38;5;124m\"\u001b[39m\n\u001b[1;32m     15\u001b[0m         ),\n\u001b[1;32m     16\u001b[0m         documentai\u001b[38;5;241m.\u001b[39mDocumentSchema\u001b[38;5;241m.\u001b[39mEntityType(\n\u001b[1;32m     17\u001b[0m             type_\u001b[38;5;241m=\u001b[39m\u001b[38;5;124m\"\u001b[39m\u001b[38;5;124mFieldName2\u001b[39m\u001b[38;5;124m\"\u001b[39m\n\u001b[1;32m     18\u001b[0m         ),\n\u001b[1;32m     19\u001b[0m         \u001b[38;5;66;03m# Add more fields here\u001b[39;00m\n\u001b[1;32m     20\u001b[0m     ]\n\u001b[1;32m     21\u001b[0m )\n\u001b[1;32m     23\u001b[0m \u001b[38;5;66;03m# Build dataset\u001b[39;00m\n\u001b[1;32m     24\u001b[0m dataset \u001b[38;5;241m=\u001b[39m documentai\u001b[38;5;241m.\u001b[39mDataset(\n\u001b[1;32m     25\u001b[0m     display_name\u001b[38;5;241m=\u001b[39m\u001b[38;5;124m\"\u001b[39m\u001b[38;5;124myour_dataset_name\u001b[39m\u001b[38;5;124m\"\u001b[39m,\n\u001b[1;32m     26\u001b[0m     document_schema\u001b[38;5;241m=\u001b[39mschema\n\u001b[1;32m     27\u001b[0m )\n",
      "File \u001b[0;32m~/anaconda3/lib/python3.12/site-packages/proto/message.py:576\u001b[0m, in \u001b[0;36mMessage.__init__\u001b[0;34m(self, mapping, ignore_unknown_fields, **kwargs)\u001b[0m\n\u001b[1;32m    573\u001b[0m     \u001b[38;5;28;01mif\u001b[39;00m ignore_unknown_fields:\n\u001b[1;32m    574\u001b[0m         \u001b[38;5;28;01mcontinue\u001b[39;00m\n\u001b[0;32m--> 576\u001b[0m     \u001b[38;5;28;01mraise\u001b[39;00m \u001b[38;5;167;01mValueError\u001b[39;00m(\n\u001b[1;32m    577\u001b[0m         \u001b[38;5;124m\"\u001b[39m\u001b[38;5;124mUnknown field for \u001b[39m\u001b[38;5;132;01m{}\u001b[39;00m\u001b[38;5;124m: \u001b[39m\u001b[38;5;132;01m{}\u001b[39;00m\u001b[38;5;124m\"\u001b[39m\u001b[38;5;241m.\u001b[39mformat(\u001b[38;5;28mself\u001b[39m\u001b[38;5;241m.\u001b[39m\u001b[38;5;18m__class__\u001b[39m\u001b[38;5;241m.\u001b[39m\u001b[38;5;18m__name__\u001b[39m, key)\n\u001b[1;32m    578\u001b[0m     )\n\u001b[1;32m    580\u001b[0m \u001b[38;5;28;01mtry\u001b[39;00m:\n\u001b[1;32m    581\u001b[0m     pb_value \u001b[38;5;241m=\u001b[39m marshal\u001b[38;5;241m.\u001b[39mto_proto(pb_type, value)\n",
      "\u001b[0;31mValueError\u001b[0m: Unknown field for EntityType: type_"
     ]
    }
   ],
   "source": [
    "\n",
    "# ---------------------------------------------------\n",
    "\n",
    "\n",
    "def create_processor(client, display_name):\n",
    "    parent = f\"projects/{PROJECT_ID}/locations/{LOCATION}\"\n",
    "    processor = documentai.Processor(\n",
    "        type_=\"CUSTOM_DOCUMENT_EXTRACTOR_PROCESSOR\",  # Very important\n",
    "        display_name=display_name,\n",
    "    )\n",
    "    response = client.create_processor(parent=parent, processor=processor)\n",
    "    print(f\"Processor created: {response.name}\")\n",
    "    return response.name\n",
    "\n",
    "\n",
    "def set_schema(client, processor_id, schema_fields):\n",
    "    schema_parent = f\"projects/{PROJECT_ID}/locations/{LOCATION}/processors/{processor_id}\"\n",
    "\n",
    "    fields = []\n",
    "    for field in schema_fields:\n",
    "        field_schema = documentai.DocumentSchema.EntityType(\n",
    "            display_name=field[\"name\"],\n",
    "            entity_type=field[\"name\"].lower().replace(\" \", \"_\"),\n",
    "            value_type=documentai.DocumentSchema.EntityType.ValueType.TEXT\n",
    "            if field[\"type\"] == \"text\"\n",
    "            else documentai.DocumentSchema.EntityType.ValueType.DATE\n",
    "            if field[\"type\"] == \"date\"\n",
    "            else documentai.DocumentSchema.EntityType.ValueType.NUMBER,\n",
    "        )\n",
    "        fields.append(field_schema)\n",
    "\n",
    "    schema = documentai.DocumentSchema(entity_types=fields)\n",
    "    request = documentai.UpdateProcessorRequest(\n",
    "        processor=documentai.Processor(name=schema_parent, document_schema=schema),\n",
    "        update_mask={\"paths\": [\"document_schema\"]}\n",
    "    )\n",
    "    client.update_processor(request=request)\n",
    "    print(\"Schema set successfully.\")\n",
    "\n",
    "\n",
    "def upload_to_gcs(local_path, gcs_path):\n",
    "    storage_client = storage.Client()\n",
    "    bucket = storage_client.bucket(GCS_BUCKET)\n",
    "    blob = bucket.blob(gcs_path)\n",
    "    blob.upload_from_filename(local_path)\n",
    "    print(f\"Uploaded {local_path} to gs://{GCS_BUCKET}/{gcs_path}\")\n",
    "\n",
    "\n",
    "def batch_import_documents(client, processor_id, gcs_documents_prefix, gcs_annotations_prefix):\n",
    "    dataset_name = f\"projects/{PROJECT_ID}/locations/{LOCATION}/processors/{processor_id}/dataset\"\n",
    "\n",
    "    input_config = documentai.BatchDocumentsInputConfig(\n",
    "        gcs_prefix=documentai.GcsPrefix(gcs_uri_prefix=f\"gs://{GCS_BUCKET}/{gcs_documents_prefix}\")\n",
    "    )\n",
    "\n",
    "    import_documents_request = documentai.ImportDocumentsRequest(\n",
    "        dataset=dataset_name,\n",
    "        batch_documents_input_config=input_config,\n",
    "        document_schema=None,  # Optional if already set schema\n",
    "        import_config=documentai.ImportDocumentsRequest.ImportConfig(\n",
    "            gcs_source=f\"gs://{GCS_BUCKET}/{gcs_annotations_prefix}\",\n",
    "            mime_type=\"application/json\"\n",
    "        )\n",
    "    )\n",
    "\n",
    "    operation = client.import_documents(request=import_documents_request)\n",
    "    print(\"Importing documents... (This might take a while)\")\n",
    "    operation.result(timeout=600)\n",
    "    print(\"Documents imported successfully.\")\n",
    "\n",
    "\n",
    "def train_processor(client, processor_id):\n",
    "    parent = f\"projects/{PROJECT_ID}/locations/{LOCATION}/processors/{processor_id}\"\n",
    "    train_request = documentai.TrainProcessorVersionRequest(\n",
    "        parent=parent,\n",
    "        processor_version=documentai.ProcessorVersion(\n",
    "            display_name=\"v1\",\n",
    "            document_schema=None  # Already assigned\n",
    "        )\n",
    "    )\n",
    "\n",
    "    operation = client.train_processor_version(request=train_request)\n",
    "    print(\"Training started...\")\n",
    "    result = operation.result(timeout=3600)  # up to 1 hour\n",
    "    print(\"Training completed.\")\n",
    "    print(f\"Trained Processor Version: {result.name}\")\n",
    "\n",
    "\n",
    "def main():\n",
    "    client = documentai.DocumentProcessorServiceClient()\n",
    "\n",
    "    # 1. Create Processor\n",
    "    processor_name = create_processor(client, display_name=\"User Custom Processor\")\n",
    "    processor_id = processor_name.split(\"/\")[-1]\n",
    "\n",
    "    # 2. Set Schema\n",
    "    set_schema(client, processor_id, SCHEMA_FIELDS)\n",
    "\n",
    "    # 3. Upload Documents and Annotations\n",
    "    for file_name in os.listdir(LOCAL_DOCUMENTS_DIR):\n",
    "        upload_to_gcs(\n",
    "            os.path.join(LOCAL_DOCUMENTS_DIR, file_name),\n",
    "            f\"documents/{file_name}\"\n",
    "        )\n",
    "\n",
    "    for file_name in os.listdir(LOCAL_ANNOTATIONS_DIR):\n",
    "        upload_to_gcs(\n",
    "            os.path.join(LOCAL_ANNOTATIONS_DIR, file_name),\n",
    "            f\"annotations/{file_name}\"\n",
    "        )\n",
    "\n",
    "    # 4. Import documents to Processor Dataset\n",
    "    batch_import_documents(client, processor_id, \"documents\", \"annotations\")\n",
    "\n",
    "    # 5. Train Processor\n",
    "    train_processor(client, processor_id)\n",
    "\n",
    "\n",
    "if __name__ == \"__main__\":\n",
    "    main()\n"
   ]
  },
  {
   "cell_type": "code",
   "execution_count": null,
   "id": "59bcd804",
   "metadata": {},
   "outputs": [],
   "source": []
  }
 ],
 "metadata": {
  "kernelspec": {
   "display_name": "base",
   "language": "python",
   "name": "python3"
  },
  "language_info": {
   "codemirror_mode": {
    "name": "ipython",
    "version": 3
   },
   "file_extension": ".py",
   "mimetype": "text/x-python",
   "name": "python",
   "nbconvert_exporter": "python",
   "pygments_lexer": "ipython3",
   "version": "3.12.2"
  }
 },
 "nbformat": 4,
 "nbformat_minor": 5
}
