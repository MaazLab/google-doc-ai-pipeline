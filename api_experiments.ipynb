{
 "cells": [
  {
   "cell_type": "code",
   "execution_count": 1,
   "id": "b952c8ca",
   "metadata": {},
   "outputs": [],
   "source": [
    "import requests"
   ]
  },
  {
   "cell_type": "code",
   "execution_count": null,
   "id": "7421ebd8",
   "metadata": {},
   "outputs": [],
   "source": [
    "# --------------- CONFIGURATION -------------------\n",
    "PROJECT_ID = \"prj-app-wh-dev\"\n",
    "LOCATION = \"us\"  # or \"eu\" depending on your processor location\n",
    "PROCESSOR_ID = '3c8100eec020c59d'\n",
    "DATASET_TYPE = 'DATASET_SPLIT_TRAIN'\n",
    "GCS_URI = 'gs://prj-app-wh-dev-backend-data/docai_samples/'\n"
   ]
  }
 ],
 "metadata": {
  "kernelspec": {
   "display_name": "base",
   "language": "python",
   "name": "python3"
  },
  "language_info": {
   "codemirror_mode": {
    "name": "ipython",
    "version": 3
   },
   "file_extension": ".py",
   "mimetype": "text/x-python",
   "name": "python",
   "nbconvert_exporter": "python",
   "pygments_lexer": "ipython3",
   "version": "3.12.2"
  }
 },
 "nbformat": 4,
 "nbformat_minor": 5
}
