{
 "cells": [
  {
   "cell_type": "code",
   "execution_count": 12,
   "id": "b952c8ca",
   "metadata": {},
   "outputs": [],
   "source": [
    "import requests"
   ]
  },
  {
   "cell_type": "code",
   "execution_count": 13,
   "id": "7421ebd8",
   "metadata": {},
   "outputs": [],
   "source": [
    "# --------------- CONFIGURATION -------------------\n",
    "PROJECT_ID = \"prj-app-wh-dev\"\n",
    "LOCATION = \"us\"  # or \"eu\" depending on your processor location\n",
    "PROCESSOR_ID = 'c40985ae7a77f2e2'\n",
    "DATASET_TYPE = 'DATASET_SPLIT_TRAIN'\n",
    "GCS_URI = 'gs://prj-app-wh-dev-backend-data/docai_samples/1/'\n"
   ]
  },
  {
   "cell_type": "code",
   "execution_count": 14,
   "id": "d220c5eb",
   "metadata": {},
   "outputs": [],
   "source": [
    "json_data = {\n",
    "      \"batch_documents_import_configs\": {\n",
    "          \"dataset_split\": DATASET_TYPE,\n",
    "          \"batch_input_config\": {\n",
    "          \"gcs_prefix\": {\n",
    "              \"gcs_uri_prefix\": GCS_URI\n",
    "          }\n",
    "          }\n",
    "      }\n",
    "  }"
   ]
  },
  {
   "cell_type": "code",
   "execution_count": 15,
   "id": "c9a4a0a4",
   "metadata": {},
   "outputs": [],
   "source": [
    "r = requests.post(f\"https://{LOCATION}-documentai.googleapis.com/v1beta3/projects/{PROJECT_ID}/locations/{LOCATION}/processors/{PROCESSOR_ID}/dataset/importDocuments\", json=json_data)"
   ]
  },
  {
   "cell_type": "code",
   "execution_count": 16,
   "id": "8542243c",
   "metadata": {},
   "outputs": [
    {
     "data": {
      "text/plain": [
       "404"
      ]
     },
     "execution_count": 16,
     "metadata": {},
     "output_type": "execute_result"
    }
   ],
   "source": [
    "r.status_code"
   ]
  },
  {
   "cell_type": "code",
   "execution_count": 17,
   "id": "fe0c04b9",
   "metadata": {},
   "outputs": [
    {
     "ename": "HTTPError",
     "evalue": "404 Client Error: Not Found for url: https://us-documentai.googleapis.com/v1beta3/projects/prj-app-wh-dev/locations/us/processors/c40985ae7a77f2e2/dataset/importDocuments",
     "output_type": "error",
     "traceback": [
      "\u001b[0;31m---------------------------------------------------------------------------\u001b[0m",
      "\u001b[0;31mHTTPError\u001b[0m                                 Traceback (most recent call last)",
      "Cell \u001b[0;32mIn[17], line 1\u001b[0m\n\u001b[0;32m----> 1\u001b[0m r\u001b[38;5;241m.\u001b[39mraise_for_status()\n",
      "File \u001b[0;32m~/anaconda3/lib/python3.12/site-packages/requests/models.py:1024\u001b[0m, in \u001b[0;36mResponse.raise_for_status\u001b[0;34m(self)\u001b[0m\n\u001b[1;32m   1019\u001b[0m     http_error_msg \u001b[38;5;241m=\u001b[39m (\n\u001b[1;32m   1020\u001b[0m         \u001b[38;5;124mf\u001b[39m\u001b[38;5;124m\"\u001b[39m\u001b[38;5;132;01m{\u001b[39;00m\u001b[38;5;28mself\u001b[39m\u001b[38;5;241m.\u001b[39mstatus_code\u001b[38;5;132;01m}\u001b[39;00m\u001b[38;5;124m Server Error: \u001b[39m\u001b[38;5;132;01m{\u001b[39;00mreason\u001b[38;5;132;01m}\u001b[39;00m\u001b[38;5;124m for url: \u001b[39m\u001b[38;5;132;01m{\u001b[39;00m\u001b[38;5;28mself\u001b[39m\u001b[38;5;241m.\u001b[39murl\u001b[38;5;132;01m}\u001b[39;00m\u001b[38;5;124m\"\u001b[39m\n\u001b[1;32m   1021\u001b[0m     )\n\u001b[1;32m   1023\u001b[0m \u001b[38;5;28;01mif\u001b[39;00m http_error_msg:\n\u001b[0;32m-> 1024\u001b[0m     \u001b[38;5;28;01mraise\u001b[39;00m HTTPError(http_error_msg, response\u001b[38;5;241m=\u001b[39m\u001b[38;5;28mself\u001b[39m)\n",
      "\u001b[0;31mHTTPError\u001b[0m: 404 Client Error: Not Found for url: https://us-documentai.googleapis.com/v1beta3/projects/prj-app-wh-dev/locations/us/processors/c40985ae7a77f2e2/dataset/importDocuments"
     ]
    }
   ],
   "source": [
    "r.raise_for_status()"
   ]
  },
  {
   "cell_type": "code",
   "execution_count": 10,
   "id": "25b76158",
   "metadata": {},
   "outputs": [
    {
     "data": {
      "text/plain": [
       "''"
      ]
     },
     "execution_count": 10,
     "metadata": {},
     "output_type": "execute_result"
    }
   ],
   "source": [
    "r.text"
   ]
  },
  {
   "cell_type": "code",
   "execution_count": null,
   "id": "e0b79f0d",
   "metadata": {},
   "outputs": [],
   "source": []
  }
 ],
 "metadata": {
  "kernelspec": {
   "display_name": "base",
   "language": "python",
   "name": "python3"
  },
  "language_info": {
   "codemirror_mode": {
    "name": "ipython",
    "version": 3
   },
   "file_extension": ".py",
   "mimetype": "text/x-python",
   "name": "python",
   "nbconvert_exporter": "python",
   "pygments_lexer": "ipython3",
   "version": "3.12.2"
  }
 },
 "nbformat": 4,
 "nbformat_minor": 5
}
